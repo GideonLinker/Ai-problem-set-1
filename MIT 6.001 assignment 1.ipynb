{
 "cells": [
  {
   "cell_type": "code",
   "execution_count": 56,
   "id": "b3db09b4",
   "metadata": {},
   "outputs": [
    {
     "name": "stdout",
     "output_type": "stream",
     "text": [
      "PART A\n",
      "Test Case 1\n",
      "183\n",
      "Test Case 2\n",
      "105\n",
      "PART B\n",
      "Test Case 1\n",
      "142\n"
     ]
    }
   ],
   "source": [
    "def calculate_months(annual_salary=0,\n",
    "                     portion_saved=.10,\n",
    "                     total_cost=0,\n",
    "                    r = .04,\n",
    "                     semi_annual_raise = 0,\n",
    "                     semi_months=1): \n",
    "    \n",
    "    portion_down_payment = 0.25\n",
    "    down_payment = total_cost * portion_down_payment\n",
    "    current_savings = 0\n",
    "\n",
    "    months = 0\n",
    "\n",
    "    # Loop to months saved\n",
    "    while current_savings < down_payment :\n",
    "        #adding the amount saved from salary\n",
    "        current_savings = current_savings * r/12 + current_savings\n",
    "        #add amount saved from investment\n",
    "        current_savings = (annual_salary/12 * portion_saved) + current_savings\n",
    "        \n",
    "        if months % semi_months == 0:\n",
    "            if months == 0:\n",
    "                pass\n",
    "            else:\n",
    "                annual_salary = annual_salary + (annual_salary * semi_annual_raise)\n",
    "        \n",
    "        months = months + 1\n",
    "    print(months)    \n",
    "\n",
    "print('PART A')\n",
    "print('Test Case 1')\n",
    "calculate_months(120000, .10, 1000000)\n",
    "print('Test Case 2')\n",
    "calculate_months(80000, .15, 500000)\n",
    "\n",
    "print('PART B')\n",
    "print('Test Case 1')\n",
    "calculate_months(annual_salary = 120000, \n",
    "                 portion_saved = 0.05, \n",
    "                 total_cost = 500000, \n",
    "                 semi_annual_raise = .03,\n",
    "                 semi_months = 6)"
   ]
  }
 ],
 "metadata": {
  "kernelspec": {
   "display_name": "Python 3 (ipykernel)",
   "language": "python",
   "name": "python3"
  },
  "language_info": {
   "codemirror_mode": {
    "name": "ipython",
    "version": 3
   },
   "file_extension": ".py",
   "mimetype": "text/x-python",
   "name": "python",
   "nbconvert_exporter": "python",
   "pygments_lexer": "ipython3",
   "version": "3.10.7"
  }
 },
 "nbformat": 4,
 "nbformat_minor": 5
}
